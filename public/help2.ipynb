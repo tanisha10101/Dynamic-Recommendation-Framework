{
 "cells": [
  {
   "cell_type": "code",
   "execution_count": 106,
   "metadata": {},
   "outputs": [],
   "source": [
    "from flask import Flask, request, jsonify\n",
    "import pandas as pd\n",
    "from sklearn.feature_extraction.text import TfidfVectorizer\n",
    "from sklearn.metrics.pairwise import linear_kernel\n",
    "from flask_cors import CORS"
   ]
  },
  {
   "cell_type": "code",
   "execution_count": 107,
   "metadata": {},
   "outputs": [],
   "source": [
    "order_history = pd.read_csv(\"OrderHistory.csv\")\n",
    "products_list = pd.read_csv(\"ProductsList.csv\")"
   ]
  },
  {
   "cell_type": "code",
   "execution_count": 134,
   "metadata": {},
   "outputs": [],
   "source": [
    "product_info = products_list[products_list['ProductId'] == 306].iloc[0]"
   ]
  },
  {
   "cell_type": "code",
   "execution_count": 135,
   "metadata": {},
   "outputs": [
    {
     "data": {
      "text/plain": [
       "ProductId                                                              306\n",
       "product_url              http://www.flipkart.com/first-choice-cotton-em...\n",
       "product_name                     First Choice Cotton Embroidered Diwan Set\n",
       "product_category_tree    [\"Home Furnishing >> Living Room Furnishing >>...\n",
       "image                    [\"http://img5a.flixcart.com/image/diwan-set/w/...\n",
       "description              Key Features of First Choice Cotton Embroidere...\n",
       "brand                                                         First Choice\n",
       "Name: 305, dtype: object"
      ]
     },
     "execution_count": 135,
     "metadata": {},
     "output_type": "execute_result"
    }
   ],
   "source": [
    "product_info"
   ]
  },
  {
   "cell_type": "code",
   "execution_count": 136,
   "metadata": {},
   "outputs": [],
   "source": [
    "pd.concat([order_history, product_info], ignore_index=True)\n",
    "product_descriptions = products_list.set_index('ProductId')['description'].to_dict()\n",
    "\n",
    "# Sample a subset of your data (assuming df1 is your DataFrame)\n",
    "sample_size = 2600  # Adjust as needed\n",
    "df2 = products_list.sample(n=sample_size, random_state=42)"
   ]
  },
  {
   "cell_type": "code",
   "execution_count": 137,
   "metadata": {},
   "outputs": [],
   "source": [
    "# df2 = df2.merge(products_list[['ProductId', 'description']], on='ProductId', how='left')\n",
    "\n",
    "    # Fill missing descriptions with an empty string\n",
    "df2['description'] = df2['description'].fillna('')\n",
    "\n",
    "product_info_df = pd.DataFrame(product_info).transpose()"
   ]
  },
  {
   "cell_type": "code",
   "execution_count": 138,
   "metadata": {},
   "outputs": [
    {
     "data": {
      "text/html": [
       "<div>\n",
       "<style scoped>\n",
       "    .dataframe tbody tr th:only-of-type {\n",
       "        vertical-align: middle;\n",
       "    }\n",
       "\n",
       "    .dataframe tbody tr th {\n",
       "        vertical-align: top;\n",
       "    }\n",
       "\n",
       "    .dataframe thead th {\n",
       "        text-align: right;\n",
       "    }\n",
       "</style>\n",
       "<table border=\"1\" class=\"dataframe\">\n",
       "  <thead>\n",
       "    <tr style=\"text-align: right;\">\n",
       "      <th></th>\n",
       "      <th>ProductId</th>\n",
       "      <th>product_url</th>\n",
       "      <th>product_name</th>\n",
       "      <th>product_category_tree</th>\n",
       "      <th>image</th>\n",
       "      <th>description</th>\n",
       "      <th>brand</th>\n",
       "    </tr>\n",
       "  </thead>\n",
       "  <tbody>\n",
       "    <tr>\n",
       "      <th>305</th>\n",
       "      <td>306</td>\n",
       "      <td>http://www.flipkart.com/first-choice-cotton-em...</td>\n",
       "      <td>First Choice Cotton Embroidered Diwan Set</td>\n",
       "      <td>[\"Home Furnishing &gt;&gt; Living Room Furnishing &gt;&gt;...</td>\n",
       "      <td>[\"http://img5a.flixcart.com/image/diwan-set/w/...</td>\n",
       "      <td>Key Features of First Choice Cotton Embroidere...</td>\n",
       "      <td>First Choice</td>\n",
       "    </tr>\n",
       "  </tbody>\n",
       "</table>\n",
       "</div>"
      ],
      "text/plain": [
       "    ProductId                                        product_url  \\\n",
       "305       306  http://www.flipkart.com/first-choice-cotton-em...   \n",
       "\n",
       "                                  product_name  \\\n",
       "305  First Choice Cotton Embroidered Diwan Set   \n",
       "\n",
       "                                 product_category_tree  \\\n",
       "305  [\"Home Furnishing >> Living Room Furnishing >>...   \n",
       "\n",
       "                                                 image  \\\n",
       "305  [\"http://img5a.flixcart.com/image/diwan-set/w/...   \n",
       "\n",
       "                                           description         brand  \n",
       "305  Key Features of First Choice Cotton Embroidere...  First Choice  "
      ]
     },
     "execution_count": 138,
     "metadata": {},
     "output_type": "execute_result"
    }
   ],
   "source": [
    "product_info_df"
   ]
  },
  {
   "cell_type": "code",
   "execution_count": 139,
   "metadata": {},
   "outputs": [],
   "source": [
    "insert_index = 459  # Adjust this to the desired index\n",
    "df2 = pd.concat([df2.iloc[:insert_index], product_info_df, df2.iloc[insert_index:]], axis=0)\n",
    "df2.index = range(1, len(df2) + 1)"
   ]
  },
  {
   "cell_type": "code",
   "execution_count": 140,
   "metadata": {},
   "outputs": [
    {
     "data": {
      "text/html": [
       "<div>\n",
       "<style scoped>\n",
       "    .dataframe tbody tr th:only-of-type {\n",
       "        vertical-align: middle;\n",
       "    }\n",
       "\n",
       "    .dataframe tbody tr th {\n",
       "        vertical-align: top;\n",
       "    }\n",
       "\n",
       "    .dataframe thead th {\n",
       "        text-align: right;\n",
       "    }\n",
       "</style>\n",
       "<table border=\"1\" class=\"dataframe\">\n",
       "  <thead>\n",
       "    <tr style=\"text-align: right;\">\n",
       "      <th></th>\n",
       "      <th>ProductId</th>\n",
       "      <th>product_url</th>\n",
       "      <th>product_name</th>\n",
       "      <th>product_category_tree</th>\n",
       "      <th>image</th>\n",
       "      <th>description</th>\n",
       "      <th>brand</th>\n",
       "    </tr>\n",
       "  </thead>\n",
       "  <tbody>\n",
       "    <tr>\n",
       "      <th>1</th>\n",
       "      <td>10651</td>\n",
       "      <td>http://www.flipkart.com/avaron-projekt-moustac...</td>\n",
       "      <td>Avaron Projekt Moustache Brooch</td>\n",
       "      <td>[\"Jewellery &gt;&gt; Accessories &gt;&gt; Brooches &gt;&gt; Avar...</td>\n",
       "      <td>[\"http://img6a.flixcart.com/image/brooch/s/r/7...</td>\n",
       "      <td>Specifications of Avaron Projekt Moustache Bro...</td>\n",
       "      <td>Avaron Projekt</td>\n",
       "    </tr>\n",
       "    <tr>\n",
       "      <th>2</th>\n",
       "      <td>2042</td>\n",
       "      <td>http://www.flipkart.com/grafion-comfort-feel-w...</td>\n",
       "      <td>Grafion by Grafion - Comfort Feel Women's Tube...</td>\n",
       "      <td>[\"Clothing &gt;&gt; Women's Clothing &gt;&gt; Lingerie, Sl...</td>\n",
       "      <td>[\"http://img5a.flixcart.com/image/bra/b/3/q/ln...</td>\n",
       "      <td>Grafion by Grafion - Comfort Feel Women's Tube...</td>\n",
       "      <td>Black</td>\n",
       "    </tr>\n",
       "    <tr>\n",
       "      <th>3</th>\n",
       "      <td>8669</td>\n",
       "      <td>http://www.flipkart.com/blessed-ring-plant-con...</td>\n",
       "      <td>Blessed Ring Plant Container Set</td>\n",
       "      <td>[\"Tools &amp; Hardware &gt;&gt; Tools &gt;&gt; Gardening Tools...</td>\n",
       "      <td>[\"http://img6a.flixcart.com/image/plant-contai...</td>\n",
       "      <td>Buy Blessed Ring Plant Container Set for Rs.84...</td>\n",
       "      <td>Blessed</td>\n",
       "    </tr>\n",
       "    <tr>\n",
       "      <th>4</th>\n",
       "      <td>1115</td>\n",
       "      <td>http://www.flipkart.com/jrb-1042-smallest-mobi...</td>\n",
       "      <td>JRB 1042 Smallest Mobile Powered By OTG Enable...</td>\n",
       "      <td>[\"Computers &gt;&gt; Laptop Accessories &gt;&gt; USB Gadge...</td>\n",
       "      <td>[\"http://img5a.flixcart.com/image/usb-gadget/b...</td>\n",
       "      <td>Key Features of JRB 1042 Smallest Mobile Power...</td>\n",
       "      <td>JRB</td>\n",
       "    </tr>\n",
       "    <tr>\n",
       "      <th>5</th>\n",
       "      <td>13903</td>\n",
       "      <td>http://www.flipkart.com/northern-lights-stripe...</td>\n",
       "      <td>Northern Lights Striped Men's Polo Neck T-Shirt</td>\n",
       "      <td>[\"Clothing &gt;&gt; Men's Clothing &gt;&gt; T-Shirts &gt;&gt; No...</td>\n",
       "      <td>[\"http://img6a.flixcart.com/image/t-shirt/b/2/...</td>\n",
       "      <td>Northern Lights Striped Men's Polo Neck T-Shir...</td>\n",
       "      <td>NaN</td>\n",
       "    </tr>\n",
       "    <tr>\n",
       "      <th>...</th>\n",
       "      <td>...</td>\n",
       "      <td>...</td>\n",
       "      <td>...</td>\n",
       "      <td>...</td>\n",
       "      <td>...</td>\n",
       "      <td>...</td>\n",
       "      <td>...</td>\n",
       "    </tr>\n",
       "    <tr>\n",
       "      <th>2597</th>\n",
       "      <td>19364</td>\n",
       "      <td>http://www.flipkart.com/eaglemoss-publications...</td>\n",
       "      <td>Eaglemoss Publications Dc Superhero Chess &amp; Ma...</td>\n",
       "      <td>[\"Toys &amp; School Supplies &gt;&gt; Action Figures &gt;&gt; ...</td>\n",
       "      <td>[\"http://img5a.flixcart.com/image/action-figur...</td>\n",
       "      <td>Specifications of Eaglemoss Publications Dc Su...</td>\n",
       "      <td>Eaglemoss Publications</td>\n",
       "    </tr>\n",
       "    <tr>\n",
       "      <th>2598</th>\n",
       "      <td>10841</td>\n",
       "      <td>http://www.flipkart.com/lab-no-4-analog-30-cm-...</td>\n",
       "      <td>Lab No. 4 Analog 30 cm Dia Wall Clock</td>\n",
       "      <td>[\"Home Decor &amp; Festive Needs &gt;&gt; Wall Decor &amp; C...</td>\n",
       "      <td>[\"http://img5a.flixcart.com/image/wall-clock/a...</td>\n",
       "      <td>Key Features of Lab No. 4 Analog 30 cm Dia Wal...</td>\n",
       "      <td>Lab No. 4</td>\n",
       "    </tr>\n",
       "    <tr>\n",
       "      <th>2599</th>\n",
       "      <td>931</td>\n",
       "      <td>http://www.flipkart.com/rosemoore-home-gel-air...</td>\n",
       "      <td>ROSEMOORE Home Gel Air Freshener</td>\n",
       "      <td>[\"Home Decor &amp; Festive Needs &gt;&gt; Candles &amp; Frag...</td>\n",
       "      <td>[\"http://img6a.flixcart.com/image/air-freshene...</td>\n",
       "      <td>Key Features of ROSEMOORE Home Gel Air Freshen...</td>\n",
       "      <td>ROSEMOORE</td>\n",
       "    </tr>\n",
       "    <tr>\n",
       "      <th>2600</th>\n",
       "      <td>5602</td>\n",
       "      <td>http://www.flipkart.com/gadget-wagon-consistan...</td>\n",
       "      <td>Gadget-Wagon Consistant 2.1 Channel Home Theat...</td>\n",
       "      <td>[\"Home Entertainment &gt;&gt; Audio Players &gt;&gt; Home ...</td>\n",
       "      <td>[\"http://img6a.flixcart.com/image/hifi-system/...</td>\n",
       "      <td>Buy Gadget-Wagon Consistant 2.1 Channel Home T...</td>\n",
       "      <td>Gadget-Wagon</td>\n",
       "    </tr>\n",
       "    <tr>\n",
       "      <th>2601</th>\n",
       "      <td>9467</td>\n",
       "      <td>http://www.flipkart.com/wadhwa-creations-car-c...</td>\n",
       "      <td>Wadhwa creations Car Cover For Polo</td>\n",
       "      <td>[\"Automotive &gt;&gt; Accessories &amp; Spare parts &gt;&gt; C...</td>\n",
       "      <td>[\"http://img6a.flixcart.com/image/car-cover/v/...</td>\n",
       "      <td>Wadhwa creations Car Cover For Polo Price: Rs....</td>\n",
       "      <td>Wadhwa creations</td>\n",
       "    </tr>\n",
       "  </tbody>\n",
       "</table>\n",
       "<p>2601 rows × 7 columns</p>\n",
       "</div>"
      ],
      "text/plain": [
       "     ProductId                                        product_url  \\\n",
       "1        10651  http://www.flipkart.com/avaron-projekt-moustac...   \n",
       "2         2042  http://www.flipkart.com/grafion-comfort-feel-w...   \n",
       "3         8669  http://www.flipkart.com/blessed-ring-plant-con...   \n",
       "4         1115  http://www.flipkart.com/jrb-1042-smallest-mobi...   \n",
       "5        13903  http://www.flipkart.com/northern-lights-stripe...   \n",
       "...        ...                                                ...   \n",
       "2597     19364  http://www.flipkart.com/eaglemoss-publications...   \n",
       "2598     10841  http://www.flipkart.com/lab-no-4-analog-30-cm-...   \n",
       "2599       931  http://www.flipkart.com/rosemoore-home-gel-air...   \n",
       "2600      5602  http://www.flipkart.com/gadget-wagon-consistan...   \n",
       "2601      9467  http://www.flipkart.com/wadhwa-creations-car-c...   \n",
       "\n",
       "                                           product_name  \\\n",
       "1                       Avaron Projekt Moustache Brooch   \n",
       "2     Grafion by Grafion - Comfort Feel Women's Tube...   \n",
       "3                      Blessed Ring Plant Container Set   \n",
       "4     JRB 1042 Smallest Mobile Powered By OTG Enable...   \n",
       "5       Northern Lights Striped Men's Polo Neck T-Shirt   \n",
       "...                                                 ...   \n",
       "2597  Eaglemoss Publications Dc Superhero Chess & Ma...   \n",
       "2598              Lab No. 4 Analog 30 cm Dia Wall Clock   \n",
       "2599                   ROSEMOORE Home Gel Air Freshener   \n",
       "2600  Gadget-Wagon Consistant 2.1 Channel Home Theat...   \n",
       "2601                Wadhwa creations Car Cover For Polo   \n",
       "\n",
       "                                  product_category_tree  \\\n",
       "1     [\"Jewellery >> Accessories >> Brooches >> Avar...   \n",
       "2     [\"Clothing >> Women's Clothing >> Lingerie, Sl...   \n",
       "3     [\"Tools & Hardware >> Tools >> Gardening Tools...   \n",
       "4     [\"Computers >> Laptop Accessories >> USB Gadge...   \n",
       "5     [\"Clothing >> Men's Clothing >> T-Shirts >> No...   \n",
       "...                                                 ...   \n",
       "2597  [\"Toys & School Supplies >> Action Figures >> ...   \n",
       "2598  [\"Home Decor & Festive Needs >> Wall Decor & C...   \n",
       "2599  [\"Home Decor & Festive Needs >> Candles & Frag...   \n",
       "2600  [\"Home Entertainment >> Audio Players >> Home ...   \n",
       "2601  [\"Automotive >> Accessories & Spare parts >> C...   \n",
       "\n",
       "                                                  image  \\\n",
       "1     [\"http://img6a.flixcart.com/image/brooch/s/r/7...   \n",
       "2     [\"http://img5a.flixcart.com/image/bra/b/3/q/ln...   \n",
       "3     [\"http://img6a.flixcart.com/image/plant-contai...   \n",
       "4     [\"http://img5a.flixcart.com/image/usb-gadget/b...   \n",
       "5     [\"http://img6a.flixcart.com/image/t-shirt/b/2/...   \n",
       "...                                                 ...   \n",
       "2597  [\"http://img5a.flixcart.com/image/action-figur...   \n",
       "2598  [\"http://img5a.flixcart.com/image/wall-clock/a...   \n",
       "2599  [\"http://img6a.flixcart.com/image/air-freshene...   \n",
       "2600  [\"http://img6a.flixcart.com/image/hifi-system/...   \n",
       "2601  [\"http://img6a.flixcart.com/image/car-cover/v/...   \n",
       "\n",
       "                                            description  \\\n",
       "1     Specifications of Avaron Projekt Moustache Bro...   \n",
       "2     Grafion by Grafion - Comfort Feel Women's Tube...   \n",
       "3     Buy Blessed Ring Plant Container Set for Rs.84...   \n",
       "4     Key Features of JRB 1042 Smallest Mobile Power...   \n",
       "5     Northern Lights Striped Men's Polo Neck T-Shir...   \n",
       "...                                                 ...   \n",
       "2597  Specifications of Eaglemoss Publications Dc Su...   \n",
       "2598  Key Features of Lab No. 4 Analog 30 cm Dia Wal...   \n",
       "2599  Key Features of ROSEMOORE Home Gel Air Freshen...   \n",
       "2600  Buy Gadget-Wagon Consistant 2.1 Channel Home T...   \n",
       "2601  Wadhwa creations Car Cover For Polo Price: Rs....   \n",
       "\n",
       "                       brand  \n",
       "1             Avaron Projekt  \n",
       "2                      Black  \n",
       "3                    Blessed  \n",
       "4                        JRB  \n",
       "5                        NaN  \n",
       "...                      ...  \n",
       "2597  Eaglemoss Publications  \n",
       "2598               Lab No. 4  \n",
       "2599               ROSEMOORE  \n",
       "2600            Gadget-Wagon  \n",
       "2601        Wadhwa creations  \n",
       "\n",
       "[2601 rows x 7 columns]"
      ]
     },
     "execution_count": 140,
     "metadata": {},
     "output_type": "execute_result"
    }
   ],
   "source": [
    "df2\n"
   ]
  },
  {
   "cell_type": "code",
   "execution_count": 141,
   "metadata": {},
   "outputs": [],
   "source": [
    "tfidf = TfidfVectorizer(stop_words='english')\n",
    "\n",
    "    # Construct the required TF-IDF matrix by fitting and transforming the data\n",
    "tfidf_matrix = tfidf.fit_transform(df2['description'])\n",
    "\n",
    "    # Compute the cosine similarity matrix\n",
    "cosine_sim = linear_kernel(tfidf_matrix, tfidf_matrix)\n",
    "indices = pd.Series(df2.index, index=df2['ProductId']).drop_duplicates()"
   ]
  },
  {
   "cell_type": "code",
   "execution_count": 142,
   "metadata": {},
   "outputs": [
    {
     "data": {
      "text/plain": [
       "array([[1.00000000e+00, 0.00000000e+00, 0.00000000e+00, ...,\n",
       "        6.84441968e-02, 0.00000000e+00, 1.86694271e-02],\n",
       "       [0.00000000e+00, 1.00000000e+00, 1.51776688e-02, ...,\n",
       "        6.08571524e-03, 1.04826155e-02, 6.50440222e-04],\n",
       "       [0.00000000e+00, 1.51776688e-02, 1.00000000e+00, ...,\n",
       "        7.11290722e-04, 5.68909146e-02, 7.51246667e-03],\n",
       "       ...,\n",
       "       [6.84441968e-02, 6.08571524e-03, 7.11290722e-04, ...,\n",
       "        1.00000000e+00, 3.09332950e-02, 2.08759035e-02],\n",
       "       [0.00000000e+00, 1.04826155e-02, 5.68909146e-02, ...,\n",
       "        3.09332950e-02, 1.00000000e+00, 7.60336968e-04],\n",
       "       [1.86694271e-02, 6.50440222e-04, 7.51246667e-03, ...,\n",
       "        2.08759035e-02, 7.60336968e-04, 1.00000000e+00]])"
      ]
     },
     "execution_count": 142,
     "metadata": {},
     "output_type": "execute_result"
    }
   ],
   "source": [
    "cosine_sim"
   ]
  },
  {
   "cell_type": "code",
   "execution_count": 130,
   "metadata": {},
   "outputs": [
    {
     "ename": "KeyError",
     "evalue": "306",
     "output_type": "error",
     "traceback": [
      "\u001b[0;31m---------------------------------------------------------------------------\u001b[0m",
      "\u001b[0;31mKeyError\u001b[0m                                  Traceback (most recent call last)",
      "File \u001b[0;32m~/.local/lib/python3.10/site-packages/pandas/core/indexes/base.py:3653\u001b[0m, in \u001b[0;36mIndex.get_loc\u001b[0;34m(self, key)\u001b[0m\n\u001b[1;32m   3652\u001b[0m \u001b[39mtry\u001b[39;00m:\n\u001b[0;32m-> 3653\u001b[0m     \u001b[39mreturn\u001b[39;00m \u001b[39mself\u001b[39;49m\u001b[39m.\u001b[39;49m_engine\u001b[39m.\u001b[39;49mget_loc(casted_key)\n\u001b[1;32m   3654\u001b[0m \u001b[39mexcept\u001b[39;00m \u001b[39mKeyError\u001b[39;00m \u001b[39mas\u001b[39;00m err:\n",
      "File \u001b[0;32m~/.local/lib/python3.10/site-packages/pandas/_libs/index.pyx:147\u001b[0m, in \u001b[0;36mpandas._libs.index.IndexEngine.get_loc\u001b[0;34m()\u001b[0m\n",
      "File \u001b[0;32m~/.local/lib/python3.10/site-packages/pandas/_libs/index.pyx:176\u001b[0m, in \u001b[0;36mpandas._libs.index.IndexEngine.get_loc\u001b[0;34m()\u001b[0m\n",
      "File \u001b[0;32mpandas/_libs/hashtable_class_helper.pxi:7080\u001b[0m, in \u001b[0;36mpandas._libs.hashtable.PyObjectHashTable.get_item\u001b[0;34m()\u001b[0m\n",
      "File \u001b[0;32mpandas/_libs/hashtable_class_helper.pxi:7088\u001b[0m, in \u001b[0;36mpandas._libs.hashtable.PyObjectHashTable.get_item\u001b[0;34m()\u001b[0m\n",
      "\u001b[0;31mKeyError\u001b[0m: 306",
      "\nThe above exception was the direct cause of the following exception:\n",
      "\u001b[0;31mKeyError\u001b[0m                                  Traceback (most recent call last)",
      "Cell \u001b[0;32mIn[130], line 1\u001b[0m\n\u001b[0;32m----> 1\u001b[0m idx \u001b[39m=\u001b[39m indices[\u001b[39m306\u001b[39;49m]\n\u001b[1;32m      2\u001b[0m \u001b[39mprint\u001b[39m(\u001b[39m\"\u001b[39m\u001b[39mType of cosine_sim[idx]:\u001b[39m\u001b[39m\"\u001b[39m, \u001b[39mtype\u001b[39m(cosine_sim[idx]))\n\u001b[1;32m      3\u001b[0m \u001b[39mprint\u001b[39m(\u001b[39m\"\u001b[39m\u001b[39mShape of cosine_sim[idx]:\u001b[39m\u001b[39m\"\u001b[39m, cosine_sim[idx]\u001b[39m.\u001b[39mshape)\n",
      "File \u001b[0;32m~/.local/lib/python3.10/site-packages/pandas/core/series.py:1007\u001b[0m, in \u001b[0;36mSeries.__getitem__\u001b[0;34m(self, key)\u001b[0m\n\u001b[1;32m   1004\u001b[0m     \u001b[39mreturn\u001b[39;00m \u001b[39mself\u001b[39m\u001b[39m.\u001b[39m_values[key]\n\u001b[1;32m   1006\u001b[0m \u001b[39melif\u001b[39;00m key_is_scalar:\n\u001b[0;32m-> 1007\u001b[0m     \u001b[39mreturn\u001b[39;00m \u001b[39mself\u001b[39;49m\u001b[39m.\u001b[39;49m_get_value(key)\n\u001b[1;32m   1009\u001b[0m \u001b[39mif\u001b[39;00m is_hashable(key):\n\u001b[1;32m   1010\u001b[0m     \u001b[39m# Otherwise index.get_value will raise InvalidIndexError\u001b[39;00m\n\u001b[1;32m   1011\u001b[0m     \u001b[39mtry\u001b[39;00m:\n\u001b[1;32m   1012\u001b[0m         \u001b[39m# For labels that don't resolve as scalars like tuples and frozensets\u001b[39;00m\n",
      "File \u001b[0;32m~/.local/lib/python3.10/site-packages/pandas/core/series.py:1116\u001b[0m, in \u001b[0;36mSeries._get_value\u001b[0;34m(self, label, takeable)\u001b[0m\n\u001b[1;32m   1113\u001b[0m     \u001b[39mreturn\u001b[39;00m \u001b[39mself\u001b[39m\u001b[39m.\u001b[39m_values[label]\n\u001b[1;32m   1115\u001b[0m \u001b[39m# Similar to Index.get_value, but we do not fall back to positional\u001b[39;00m\n\u001b[0;32m-> 1116\u001b[0m loc \u001b[39m=\u001b[39m \u001b[39mself\u001b[39;49m\u001b[39m.\u001b[39;49mindex\u001b[39m.\u001b[39;49mget_loc(label)\n\u001b[1;32m   1118\u001b[0m \u001b[39mif\u001b[39;00m is_integer(loc):\n\u001b[1;32m   1119\u001b[0m     \u001b[39mreturn\u001b[39;00m \u001b[39mself\u001b[39m\u001b[39m.\u001b[39m_values[loc]\n",
      "File \u001b[0;32m~/.local/lib/python3.10/site-packages/pandas/core/indexes/base.py:3655\u001b[0m, in \u001b[0;36mIndex.get_loc\u001b[0;34m(self, key)\u001b[0m\n\u001b[1;32m   3653\u001b[0m     \u001b[39mreturn\u001b[39;00m \u001b[39mself\u001b[39m\u001b[39m.\u001b[39m_engine\u001b[39m.\u001b[39mget_loc(casted_key)\n\u001b[1;32m   3654\u001b[0m \u001b[39mexcept\u001b[39;00m \u001b[39mKeyError\u001b[39;00m \u001b[39mas\u001b[39;00m err:\n\u001b[0;32m-> 3655\u001b[0m     \u001b[39mraise\u001b[39;00m \u001b[39mKeyError\u001b[39;00m(key) \u001b[39mfrom\u001b[39;00m \u001b[39merr\u001b[39;00m\n\u001b[1;32m   3656\u001b[0m \u001b[39mexcept\u001b[39;00m \u001b[39mTypeError\u001b[39;00m:\n\u001b[1;32m   3657\u001b[0m     \u001b[39m# If we have a listlike key, _check_indexing_error will raise\u001b[39;00m\n\u001b[1;32m   3658\u001b[0m     \u001b[39m#  InvalidIndexError. Otherwise we fall through and re-raise\u001b[39;00m\n\u001b[1;32m   3659\u001b[0m     \u001b[39m#  the TypeError.\u001b[39;00m\n\u001b[1;32m   3660\u001b[0m     \u001b[39mself\u001b[39m\u001b[39m.\u001b[39m_check_indexing_error(key)\n",
      "\u001b[0;31mKeyError\u001b[0m: 306"
     ]
    }
   ],
   "source": [
    "\n"
   ]
  },
  {
   "cell_type": "code",
   "execution_count": 143,
   "metadata": {},
   "outputs": [],
   "source": [
    "import numpy as np"
   ]
  },
  {
   "cell_type": "code",
   "execution_count": 144,
   "metadata": {},
   "outputs": [
    {
     "data": {
      "text/plain": [
       "ProductId\n",
       "10651       1\n",
       "2042        2\n",
       "8669        3\n",
       "1115        4\n",
       "13903       5\n",
       "         ... \n",
       "19364    2597\n",
       "10841    2598\n",
       "931      2599\n",
       "5602     2600\n",
       "9467     2601\n",
       "Length: 2601, dtype: int64"
      ]
     },
     "execution_count": 144,
     "metadata": {},
     "output_type": "execute_result"
    }
   ],
   "source": [
    "indices"
   ]
  },
  {
   "cell_type": "code",
   "execution_count": 145,
   "metadata": {},
   "outputs": [],
   "source": [
    "def get_recommendations(product_id, cosine_sim=cosine_sim):\n",
    "    idx = indices[product_id]  # Use the mapped index from indices\n",
    "    sim_scores = list(enumerate(cosine_sim[idx]))\n",
    "    sim_scores = sorted(sim_scores, key=lambda x: x[1], reverse=True)\n",
    "    sim_scores = sim_scores[1:11]\n",
    "    movie_indices = [i[0] for i in sim_scores]\n",
    "    return df2['ProductId'].iloc[movie_indices].tolist()\n",
    "\n",
    "\n",
    "recommendations = get_recommendations(306)\n",
    "# Append the product information to the order_history DataFrame\n",
    "# order_history = order_history.append(product_info, ignore_index=True)\n",
    "# print(order_history)\n",
    "\n",
    "\n",
    "# Get product names based on product IDs\n",
    "product_names = [products_list.loc[products_list['ProductId'] == pid, 'product_name'].values[0] for pid in recommendations]"
   ]
  },
  {
   "cell_type": "code",
   "execution_count": 146,
   "metadata": {},
   "outputs": [
    {
     "data": {
      "text/plain": [
       "['First Choice Cotton Embroidered Diwan Set',\n",
       " 'Hemden Embroidered Cushions Cover',\n",
       " 'Adishma Printed Cushions Cover',\n",
       " 'Homec Geometric Cushions Cover',\n",
       " 'SYON Cotton Floral Double Bedsheet',\n",
       " 'Shopkeeda Abstract Cushions Cover',\n",
       " 'JBC Collection Cotton Printed Single Bedsheet',\n",
       " 'JBC Collection Cotton Printed Single Bedsheet',\n",
       " 'Lushomes Plain Cushions Cover',\n",
       " \"Ruhi's Creations Polyester Silk Blend Cartoon King sized Double Bedsheet\"]"
      ]
     },
     "execution_count": 146,
     "metadata": {},
     "output_type": "execute_result"
    },
    {
     "ename": "",
     "evalue": "",
     "output_type": "error",
     "traceback": [
      "\u001b[1;31mThe Kernel crashed while executing code in the the current cell or a previous cell. Please review the code in the cell(s) to identify a possible cause of the failure. Click <a href='https://aka.ms/vscodeJupyterKernelCrash'>here</a> for more info. View Jupyter <a href='command:jupyter.viewOutput'>log</a> for further details."
     ]
    }
   ],
   "source": [
    "product_names"
   ]
  }
 ],
 "metadata": {
  "kernelspec": {
   "display_name": "Python 3",
   "language": "python",
   "name": "python3"
  },
  "language_info": {
   "codemirror_mode": {
    "name": "ipython",
    "version": 3
   },
   "file_extension": ".py",
   "mimetype": "text/x-python",
   "name": "python",
   "nbconvert_exporter": "python",
   "pygments_lexer": "ipython3",
   "version": "3.10.8"
  },
  "orig_nbformat": 4
 },
 "nbformat": 4,
 "nbformat_minor": 2
}
